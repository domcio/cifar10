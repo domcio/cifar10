{
 "metadata": {
  "name": "",
  "signature": "sha256:4bab2dc51aa29ec90ccb234ff25b9f6e7394abf97cea625176471d3227738462"
 },
 "nbformat": 3,
 "nbformat_minor": 0,
 "worksheets": [
  {
   "cells": [
    {
     "cell_type": "code",
     "collapsed": false,
     "input": [
      "import numpy\n",
      "import theano\n",
      "import theano.tensor as T\n",
      "import cPickle\n",
      "import os\n",
      "\n",
      "# theano.config.exception_verbosity = \"high\"\n",
      "# theano.config.blas.ldflags=\"-L/usr/lib -lblas\"\n",
      "\n",
      "\n",
      "rng = numpy.random\n",
      "\n",
      "os.path.abspath(os.path.curdir)\n",
      "os.chdir('/home/dominik/dev/craftinity/cifar-10-batches-py')\n",
      "paths = ['data_batch_1', 'data_batch_2', 'data_batch_3', 'data_batch_4', 'data_batch_5']\n",
      "\n",
      "def unpickle(file):\n",
      "\tf = open(file, 'rb')\n",
      "\tdict = cPickle.load(f)\n",
      "\tf.close()\n",
      "\treturn dict\n",
      "\n",
      "def clear_data(data_dict):\n",
      "    X = data_dict['data']\n",
      "    Y = data_dict['labels']\n",
      "    \n",
      "    X = X.astype(int)\n",
      "    X = X[:,0:1024] + X[:,1024:2048] + X[:,2048:3072]\n",
      "    X = X.astype(float)\n",
      "    X = X / 765.0\n",
      "    \n",
      "    YY = numpy.zeros((len(Y), 10))\n",
      "    for i in xrange(len(Y)):\n",
      "        YY[i, Y[i]] = 1\n",
      "        \n",
      "    return (X, YY)\n",
      "\n",
      "train_sets = map(lambda x: clear_data(unpickle(x)), paths)        \n",
      "\n",
      "(X, Y) = train_sets[0]"
     ],
     "language": "python",
     "metadata": {},
     "outputs": []
    },
    {
     "cell_type": "code",
     "collapsed": false,
     "input": [
      "Y.shape"
     ],
     "language": "python",
     "metadata": {},
     "outputs": []
    },
    {
     "cell_type": "code",
     "collapsed": false,
     "input": [
      "features = X.shape[1]\n",
      "examples = X.shape[0]\n",
      "classes = 10\n",
      "middle_units1 = 100\n",
      "middle_units2 = 50\n",
      "iterations = 50\n",
      "batch_size = 128\n",
      "learning_rate = 1\n",
      "momentum = 0.8"
     ],
     "language": "python",
     "metadata": {},
     "outputs": []
    },
    {
     "cell_type": "code",
     "collapsed": false,
     "input": [
      "x = T.matrix(\"x\")\n",
      "y = T.matrix(\"y\")\n",
      "\n",
      "w1 = theano.shared(rng.randn(features, middle_units1)*0.01, name=\"w1\")\n",
      "w2 = theano.shared(rng.randn(middle_units1, middle_units2)*0.01, name=\"w2\")\n",
      "w3 = theano.shared(rng.randn(middle_units2, classes)*0.01, name=\"w3\")\n",
      "vb = theano.shared(rng.randn(1, middle_units1)*0.01, name=\"vb\", broadcastable=(True, False))\n",
      "hb1 = theano.shared(rng.randn(1, middle_units2)*0.01,  name=\"hb1\", broadcastable=(True, False))\n",
      "hb2 = theano.shared(rng.randn(1, classes)*0.01,  name=\"hb2\", broadcastable=(True, False))\n",
      "\n",
      "mw1 = theano.shared(numpy.zeros((features, middle_units1)), name=\"mw1\")\n",
      "mw2 = theano.shared(numpy.zeros((middle_units1, middle_units2)), name=\"mw2\")\n",
      "mw3 = theano.shared(numpy.zeros((middle_units2, classes)), name=\"mw3\")\n",
      "mvb = theano.shared(numpy.zeros((1, middle_units1)), name=\"mvb\", broadcastable=(True, False))\n",
      "mhb1 = theano.shared(numpy.zeros((1, middle_units2)),  name=\"mhb1\", broadcastable=(True, False))\n",
      "mhb2 = theano.shared(numpy.zeros((1, classes)),  name=\"mhb2\", broadcastable=(True, False))"
     ],
     "language": "python",
     "metadata": {},
     "outputs": []
    },
    {
     "cell_type": "code",
     "collapsed": false,
     "input": [
      "# [w1, w2, w3, vb, hb1, hb2, mw1, mw2, mw3, mvb, mhb1, mhb2] = \\\n",
      "# [theano.shared(numpy.load(x + \".dat\"), name=x) for x in ['w1', 'w2', 'w3', 'vb', 'hb1', 'hb2', 'mw1', 'mw2', 'mw3' ,'mvb', 'mhb1', 'mhb2']]\n",
      "\n",
      "[w1, w2, w3, mw1, mw2, mw3] = \\\n",
      "[theano.shared(numpy.load(x + \".dat\"), name=x) for x in ['w1', 'w2', 'w3', 'mw1', 'mw2', 'mw3']]\n",
      "\n",
      "[vb, hb1, hb2, mvb, mhb1, mhb2] = \\\n",
      "[theano.shared(numpy.load(x + \".dat\"), name=x, broadcastable=(True, False)) for x in ['vb', 'hb1', 'hb2', 'mvb', 'mhb1', 'mhb2']]\n",
      "\n",
      "\n"
     ],
     "language": "python",
     "metadata": {},
     "outputs": []
    },
    {
     "cell_type": "code",
     "collapsed": false,
     "input": [
      "hidden_act = 1 / (1 + T.exp(- T.dot(x, w1) - vb))\n",
      "\n",
      "hidden2_act = 1 / (1 + T.exp(- T.dot(hidden_act, w2) - hb1))\n",
      "\n",
      "output_act = - T.dot(hidden2_act, w3) - hb2\n",
      "\n",
      "normalized_output = T.exp(output_act - output_act.max(axis=1, keepdims=True))\n",
      "\n",
      "p = normalized_output / normalized_output.sum(axis=1, keepdims=True)\n",
      "\n",
      "Jpt = - y * T.log(p)\n",
      "    \n",
      "cost = Jpt.mean()\n",
      "\n",
      "gw1, gw2, gw3, gvb, ghb1, ghb2 = T.grad(cost, [w1, w2, w3, vb, hb1, hb2])\n",
      "\n",
      "train = theano.function(\n",
      "    inputs=[x, y],\n",
      "    outputs=[p, cost],\n",
      "    updates=((mw1, momentum*mw1 - learning_rate * gw1),\n",
      "             (mw2, momentum*mw2 - learning_rate * gw2),\n",
      "             (mw3, momentum*mw3 - learning_rate * gw3),\n",
      "             (mvb, momentum*mvb - learning_rate * gvb),\n",
      "             (mhb1, momentum*mhb1 - learning_rate * ghb1),\n",
      "             (mhb2, momentum*mhb2 - learning_rate * ghb2),\n",
      "             (w1, w1 + mw1),\n",
      "             (w2, w2 + mw2),\n",
      "             (w3, w3 + mw3),\n",
      "             (vb, vb + mvb),\n",
      "             (hb1, hb1 + mhb1),\n",
      "             (hb2, hb2 + mhb2)))\n",
      "predict = theano.function(inputs=[x], outputs=p)"
     ],
     "language": "python",
     "metadata": {},
     "outputs": []
    },
    {
     "cell_type": "code",
     "collapsed": false,
     "input": [
      "for i in xrange(iterations):\n",
      "    print 'iteration',i\n",
      "    tot_err = 0\n",
      "    for X, Y in train_sets:\n",
      "        for start in xrange(0, X.shape[0], batch_size):\n",
      "            batch_X = X[start:min(start + batch_size, X.shape[0]-1)]\n",
      "            batch_Y = Y[start:min(start + batch_size, Y.shape[0]-1)]\n",
      "            pred, err = train(batch_X, batch_Y)\n",
      "            tot_err += err\n",
      "    print 'error',tot_err"
     ],
     "language": "python",
     "metadata": {},
     "outputs": []
    },
    {
     "cell_type": "code",
     "collapsed": false,
     "input": [
      "for mat in [w1, w3, vb, hb1, hb2, mw1, mw2, mw3, mvb, mhb1, mhb2]:\n",
      "    mat.get_value().dump(mat.name + \".dat\")"
     ],
     "language": "python",
     "metadata": {},
     "outputs": []
    },
    {
     "cell_type": "code",
     "collapsed": false,
     "input": [
      "test_X, test_Y = clear_data(unpickle('test_batch'))"
     ],
     "language": "python",
     "metadata": {},
     "outputs": []
    },
    {
     "cell_type": "code",
     "collapsed": false,
     "input": [
      "preds = T.matrix(\"preds\")\n",
      "true_classes = T.matrix(\"true\")\n",
      "true_classes_1 = T.argmax(true_classes, axis=1, keepdims=True)\n",
      "predicted_class = T.argmax(preds, axis=1, keepdims=True)\n",
      "accuracy = T.sum(T.eq(predicted_class, true_classes_1), dtype='float64') / true_classes.shape[0]\n",
      "compare = theano.function(inputs=[preds, true_classes], outputs=accuracy)\n",
      "\n",
      "get_most_probable_class = theano.function(inputs=[preds], outputs=predicted_class)\n",
      "\n",
      "predictions = predict(test_X)\n",
      "predicted_classes = get_most_probable_class(predictions)\n",
      "acc = compare(predictions, test_Y)"
     ],
     "language": "python",
     "metadata": {},
     "outputs": []
    },
    {
     "cell_type": "code",
     "collapsed": false,
     "input": [
      "print acc\n",
      "print predicted_classes\n",
      "predicted_classes.dump('prediction.dat')"
     ],
     "language": "python",
     "metadata": {},
     "outputs": []
    }
   ],
   "metadata": {}
  }
 ]
}